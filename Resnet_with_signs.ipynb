{
  "nbformat": 4,
  "nbformat_minor": 0,
  "metadata": {
    "colab": {
      "name": "Resnet with signs",
      "version": "0.3.2",
      "provenance": [],
      "collapsed_sections": [],
      "include_colab_link": true
    },
    "kernelspec": {
      "name": "python3",
      "display_name": "Python 3"
    },
    "accelerator": "GPU"
  },
  "cells": [
    {
      "cell_type": "markdown",
      "metadata": {
        "id": "view-in-github",
        "colab_type": "text"
      },
      "source": [
        "<a href=\"https://colab.research.google.com/github/DrAlexSanz/Resnet/blob/master/Resnet_with_signs.ipynb\" target=\"_parent\"><img src=\"https://colab.research.google.com/assets/colab-badge.svg\" alt=\"Open In Colab\"/></a>"
      ]
    },
    {
      "cell_type": "markdown",
      "metadata": {
        "id": "UL0bSgQlkSBO",
        "colab_type": "text"
      },
      "source": [
        "This notebook solves the classification of the tests dataset with a resnet. The Resnet is a CNN (in this case) with shortcircuits. This tries to tackle the problem of vanishing gradients in VERY deep NN. I'll detail my topology later on."
      ]
    },
    {
      "cell_type": "code",
      "metadata": {
        "id": "bz1YZDjgXbCu",
        "colab_type": "code",
        "outputId": "bde772e3-cd30-4258-f288-69af1ffcdbb0",
        "colab": {
          "base_uri": "https://localhost:8080/",
          "height": 34
        }
      },
      "source": [
        "import numpy as np\n",
        "import keras\n",
        "import tensorflow as tf\n",
        "\n",
        "import matplotlib.pyplot as plt\n",
        "plt.rcParams[\"figure.figsize\"] = [18, 12]\n",
        "import h5py\n",
        "\n",
        "from PIL import Image\n",
        "\n",
        "from keras import layers, optimizers\n",
        "from keras.layers import Input, Dense, Conv2D, Activation, ZeroPadding2D, BatchNormalization, Flatten, Add\n",
        "from keras.layers import AveragePooling2D, MaxPooling2D, Dropout, GlobalMaxPooling2D, GlobalAveragePooling2D\n",
        "\n",
        "from keras.models import Model, Sequential\n",
        "\n",
        "from keras.preprocessing import image\n",
        "\n",
        "from keras.initializers import glorot_uniform\n",
        "\n",
        "from keras.utils import layer_utils, plot_model, to_categorical\n",
        "\n",
        "from keras.callbacks import History, ModelCheckpoint\n",
        "\n",
        "keras.backend.set_image_data_format('channels_last')\n",
        "\n",
        "%matplotlib inline\n",
        "\n",
        "print(\"Everything imported correctly\")"
      ],
      "execution_count": 56,
      "outputs": [
        {
          "output_type": "stream",
          "text": [
            "Everything imported correctly\n"
          ],
          "name": "stdout"
        }
      ]
    },
    {
      "cell_type": "code",
      "metadata": {
        "id": "ui4Q9MNSY3Dl",
        "colab_type": "code",
        "outputId": "306f6d0f-55ba-4dec-e2cb-d4e38112a576",
        "colab": {
          "base_uri": "https://localhost:8080/",
          "height": 119
        }
      },
      "source": [
        "#First remove the folder and everything it contains.\n",
        "\n",
        "!rm -rf Resnet\n",
        "\n",
        "#Now I clone the repository and everything works.\n",
        "\n",
        "! git clone https://github.com/DrAlexSanz/Resnet.git"
      ],
      "execution_count": 57,
      "outputs": [
        {
          "output_type": "stream",
          "text": [
            "Cloning into 'Resnet'...\n",
            "remote: Enumerating objects: 16, done.\u001b[K\n",
            "remote: Counting objects: 100% (16/16), done.\u001b[K\n",
            "remote: Compressing objects: 100% (16/16), done.\u001b[K\n",
            "remote: Total 16 (delta 4), reused 0 (delta 0), pack-reused 0\u001b[K\n",
            "Unpacking objects: 100% (16/16), done.\n"
          ],
          "name": "stdout"
        }
      ]
    },
    {
      "cell_type": "code",
      "metadata": {
        "id": "uaN7OlV-ZFzE",
        "colab_type": "code",
        "outputId": "8fc7b8f5-49da-4324-cdb0-d0656226a531",
        "colab": {
          "base_uri": "https://localhost:8080/",
          "height": 34
        }
      },
      "source": [
        "#Now read data\n",
        "\n",
        "with h5py.File(\"Resnet/test_signs.h5\") as test:\n",
        "  test_x_1 = np.array(test[\"test_set_x\"][:]) # your train set features\n",
        "  test_y_1 = np.array(test[\"test_set_y\"][:]) # your train set labels\n",
        "  classes = np.array(test[\"list_classes\"][:]) # the list of classes\n",
        "\n",
        "with h5py.File(\"Resnet/train_signs.h5\") as train:\n",
        "  train_x_1 = np.array(train[\"train_set_x\"][:]) # train set features\n",
        "  train_y_1 = np.array(train[\"train_set_y\"][:]) # train set labels\n",
        "\n",
        "print(\"Everything loaded and imported\")"
      ],
      "execution_count": 58,
      "outputs": [
        {
          "output_type": "stream",
          "text": [
            "Everything loaded and imported\n"
          ],
          "name": "stdout"
        }
      ]
    },
    {
      "cell_type": "code",
      "metadata": {
        "id": "9mWRHksLcEH4",
        "colab_type": "code",
        "colab": {}
      },
      "source": [
        "train_x = train_x_1/255\n",
        "test_x = test_x_1/255\n",
        "\n",
        "#One hot encoding by hand. I find it's a neat solution\n",
        "\n",
        "n_classes = 5 # Numbers 0 to 5, I need to put 1 less\n",
        "\n",
        "# If I use a library, like sklearn or TF, I will fit it with the train set, and then transform BOTH, to ensure that every class is mapped consistently\n",
        "\n",
        "#Explanation: create a nxn Identity matrix. Take the nth row. I had to write this down, it's not easy to see off the top of my head.\n",
        "\n",
        "# train_y = np.eye(n_classes+1)[train_y_1.reshape(-1)]\n",
        "# test_y = np.eye(n_classes+1)[test_y_1.reshape(-1)]\n",
        "\n",
        "train_y = to_categorical(train_y_1)\n",
        "test_y = to_categorical(test_y_1)"
      ],
      "execution_count": 0,
      "outputs": []
    },
    {
      "cell_type": "code",
      "metadata": {
        "id": "73sAkB_Tcw2y",
        "colab_type": "code",
        "outputId": "caeb4c1b-52a8-4918-ff9b-18e70b81b49e",
        "colab": {
          "base_uri": "https://localhost:8080/",
          "height": 85
        }
      },
      "source": [
        "print(\"X train shape is: \" + str(train_x.shape))\n",
        "print(\"Y train shape is: \" + str(train_y.shape))\n",
        "print(\"X test shape is: \" + str(test_x.shape))\n",
        "print(\"Y test shape is: \" + str(test_y.shape))"
      ],
      "execution_count": 60,
      "outputs": [
        {
          "output_type": "stream",
          "text": [
            "X train shape is: (1080, 64, 64, 3)\n",
            "Y train shape is: (1080, 6)\n",
            "X test shape is: (120, 64, 64, 3)\n",
            "Y test shape is: (120, 6)\n"
          ],
          "name": "stdout"
        }
      ]
    },
    {
      "cell_type": "code",
      "metadata": {
        "id": "B0xJEoH2Znh1",
        "colab_type": "code",
        "outputId": "72149f1c-f4c5-4100-96ea-6a440a6dc5d5",
        "colab": {
          "base_uri": "https://localhost:8080/",
          "height": 286
        }
      },
      "source": [
        "plt.imshow(train_x_1[13])\n",
        "print(\"y = \" + str(train_y_1[13]))"
      ],
      "execution_count": 62,
      "outputs": [
        {
          "output_type": "stream",
          "text": [
            "y = 5\n"
          ],
          "name": "stdout"
        },
        {
          "output_type": "display_data",
          "data": {
            "image/png": "[encoded data removed]",
            "text/plain": [
              "<Figure size 432x288 with 1 Axes>"
            ]
          },
          "metadata": {
            "tags": []
          }
        }
      ]
    },
    {
      "cell_type": "markdown",
      "metadata": {
        "id": "rSOiSjoPioNH",
        "colab_type": "text"
      },
      "source": [
        "So this is the loading as in the case of the signs CNN in TF. Nothing new here. The novelty is the topology of the network. I'll explain with a picture.\n",
        "\n",
        "![ID Block](\"Resnet/idblock3_kiank.png\")\n"
      ]
    },
    {
      "cell_type": "markdown",
      "metadata": {
        "id": "PI3HFEuFqVnA",
        "colab_type": "text"
      },
      "source": [
        "Ok, the visualization doesn't work so I'll plot the model later on.\n",
        "\n",
        "There is the main path, which is the normal (C)NN and the shortcircuit. The main path is made of a basic block (ID block) which is shortcircuited. At the end of the ID block, the shortcircuit is added to the output of this ID block, but only if the dimensions are the same. This is repeated a number of times. If I want to add the shortcircuit and the dimensions have changed along the main path I need to apply a CONV2D with the appropriate parameters in the shortcircuit path. I will do this in this case, but it is only one of the options.\n",
        "\n",
        "The structure, in this case, is the following:\n",
        "\n",
        "MAIN PATH\n",
        "\n",
        "First component \n",
        "\n",
        "1.   CONV2D with $F_1$ filters of shape (1, 1), stride of (1, 1) and padding VALID (dims will change). The name is CONV_NAME_BASE + \"2a\"\n",
        "2.   BatchNorm block, to normalize the channels axis. The name is BN_NAME_BASE + \"2a\"\n",
        "3.   RELU. No name\n",
        "\n",
        "Second component\n",
        "\n",
        "\n",
        "\n",
        "1.   CONV2D with $F_2$ filters of shape ($f$, $f$), stride of (1, 1) and padding SAME. The name is CONV_NAME_BASE + \"2b\"\n",
        "2.   BatchNorm block, to normalize the channels axis. The name is BN_NAME_BASE + \"2b\"\n",
        "3.   RELU. No name\n",
        "\n",
        "Third component\n",
        "\n",
        "\n",
        "\n",
        "1.   CONV2D with $F_3$ filters of shape (1, 1), stride of (1, 1) and padding VALID. The name is CONV_NAME_BASE + \"2c\"\n",
        "2.   BatchNorm block, to normalize the channels axis. The name is BN_NAME_BASE + \"2c\"\n",
        "3.   NO ACTIVATION\n",
        "\n",
        "Last step, add the output of the third component to the output of the shortcircuit block and then pass it through a RELU. If I add it later, the shortcircuit is not capturing any nonlinearity!!!\n",
        "\n",
        "The shortcircuit path has a CONV2D + BatchNorm. IF I don't change the dimensions this is not necessary.\n",
        "\n",
        "\n"
      ]
    },
    {
      "cell_type": "code",
      "metadata": {
        "id": "FAkc8HZEvQSC",
        "colab_type": "code",
        "colab": {}
      },
      "source": [
        "def ID_Block(X, f, filters, stage, block):\n",
        "    \"\"\"\n",
        "    Implementation of the ID block described in the previous cell\n",
        "\n",
        "    Inputs:\n",
        "    X is the batch of pictures (m, height, width, channels)\n",
        "    f is the shape of the filters for the second block of main path\n",
        "    filters is the list with the 3 numbers of filters for each block [f1, f2, f3]\n",
        "    stage is the position of the block, for naming\n",
        "    block is a string to name the layers\n",
        "\n",
        "    Output:\n",
        "    X is the ID block created. Shape is (height, width, channels)\n",
        "\n",
        "    \"\"\"\n",
        "\n",
        "\n",
        "    #Define names\n",
        "    conv_name_base = \"Res\" + str(stage) + block + \"_branch\"\n",
        "    BN_name_base = \"BN\" + str(stage) + block + \"_branch\"\n",
        "    \n",
        "    # Separate filters\n",
        "    \n",
        "    F1, F2, F3 = filters\n",
        "    \n",
        "    #Save the input for the shortcut\n",
        "    \n",
        "    X_shortcut = X\n",
        "    \n",
        "    # Al lío\n",
        "    # First component of main path\n",
        "    \n",
        "    X = Conv2D(filters = F1, kernel_size = (1, 1), strides = (1, 1), padding = \"valid\", name = conv_name_base + \"2a\", kernel_initializer = glorot_uniform(seed = 0))(X)\n",
        "    X = BatchNormalization(axis = 3, name = BN_name_base + \"2a\")(X) #BN for the channels only\n",
        "    X = Activation(\"relu\")(X)\n",
        "    \n",
        "    #Second component of main path\n",
        "        \n",
        "    X = Conv2D(filters = F2, kernel_size = (f, f), strides = (1, 1), padding = \"same\", name = conv_name_base + \"2b\", kernel_initializer = glorot_uniform(seed = 0))(X)\n",
        "    X = BatchNormalization(axis = 3, name = BN_name_base + \"2b\")(X) #BN for the channels only\n",
        "    X = Activation(\"relu\")(X)\n",
        "    \n",
        "    # Third component of main path\n",
        "        \n",
        "    X = Conv2D(filters = F3, kernel_size = (1, 1), strides = (1, 1), padding = \"valid\", name = conv_name_base + \"2c\", kernel_initializer = glorot_uniform(seed = 0))(X)\n",
        "    X = BatchNormalization(axis = 3, name = BN_name_base + \"2c\")(X) #BN for the channels only\n",
        "    #NO RELU NOW!!!\n",
        "    \n",
        "    #Add the shortcut and RELU\n",
        "    \n",
        "    X = Add()([X, X_shortcut])\n",
        "    X = Activation(\"relu\")(X)\n",
        "    \n",
        "    return X\n",
        "    \n",
        "    \n",
        "\n"
      ],
      "execution_count": 0,
      "outputs": []
    },
    {
      "cell_type": "code",
      "metadata": {
        "id": "29FYRhsX1Pzh",
        "colab_type": "code",
        "colab": {
          "base_uri": "https://localhost:8080/",
          "height": 34
        },
        "outputId": "bcf959b1-5697-4120-98fc-e6b3a3347db7"
      },
      "source": [
        "#To test\n",
        "\n",
        "tf.reset_default_graph()\n",
        "\n",
        "with tf.Session() as test:\n",
        "    np.random.seed(1)\n",
        "    A_in = tf.placeholder(\"float\", [3, 4, 4, 6])\n",
        "    X = np.random.randn(3, 4, 4, 6)\n",
        "    A = ID_Block(A_in, f = 2, filters = [2, 4, 6], stage = 1, block = \"a\")\n",
        "    test.run(tf.global_variables_initializer())\n",
        "    test_out = test.run([A], feed_dict = {A_in: X, keras.backend.learning_phase(): 0})\n",
        "    print(\"Out is: \", test_out[0][1][1][0])"
      ],
      "execution_count": 52,
      "outputs": [
        {
          "output_type": "stream",
          "text": [
            "Out is:  [0.9482299 0.        1.1610144 2.747859  0.        1.36677  ]\n"
          ],
          "name": "stdout"
        }
      ]
    },
    {
      "cell_type": "markdown",
      "metadata": {
        "id": "kciYzLeG3NwQ",
        "colab_type": "text"
      },
      "source": [
        "So the previous block works. That is reassuring. Also:\n",
        "\n",
        "#The error AttributeError __Enter__ comes when I forget the () in with tf.Session() as...\n",
        "\n",
        "Always the same story."
      ]
    },
    {
      "cell_type": "markdown",
      "metadata": {
        "id": "RARKxZvR35cy",
        "colab_type": "text"
      },
      "source": [
        "Now I have to implement the Convolutional block. It's the same block as before but before adding the shortcut I pass it through a CONV2D block and BN"
      ]
    },
    {
      "cell_type": "code",
      "metadata": {
        "colab_type": "code",
        "id": "_r9Tf8gf6k1S",
        "colab": {}
      },
      "source": [
        "def CONV_Block(X, f, filters, stage, block, s = 2):\n",
        "    \"\"\"\n",
        "    Implementation of the CONV block described in the previous cell\n",
        "\n",
        "    Inputs:\n",
        "    X is the batch of pictures (m, height, width, channels)\n",
        "    f is the shape of the filters for the second block of main path\n",
        "    filters is the list with the 3 numbers of filters for each block [f1, f2, f3]\n",
        "    stage is the position of the block, for naming\n",
        "    block is a string to name the layers\n",
        "    s is the stride\n",
        "\n",
        "    Output:\n",
        "    X is the ID block created. Shape is (height, width, channels)\n",
        "\n",
        "    \"\"\"\n",
        "\n",
        "\n",
        "    #Define names\n",
        "    conv_name_base = \"Res\" + str(stage) + block + \"_branch\"\n",
        "    BN_name_base = \"BN\" + str(stage) + block + \"_branch\"\n",
        "    \n",
        "    # Separate filters\n",
        "    \n",
        "    F1, F2, F3 = filters\n",
        "    \n",
        "    #Save the input for the shortcut\n",
        "    \n",
        "    X_shortcut = X\n",
        "    \n",
        "    # Al lío\n",
        "    # First component of main path\n",
        "    \n",
        "    X = Conv2D(filters = F1, kernel_size = (1, 1), strides = (s, s), padding = \"valid\", name = conv_name_base + \"2a\", kernel_initializer = glorot_uniform(seed = 0))(X)\n",
        "    X = BatchNormalization(axis = 3, name = BN_name_base + \"2a\")(X) #BN for the channels only\n",
        "    X = Activation(\"relu\")(X)\n",
        "    \n",
        "    #Second component of main path\n",
        "        \n",
        "    X = Conv2D(filters = F2, kernel_size = (f, f), strides = (1, 1), padding = \"same\", name = conv_name_base + \"2b\", kernel_initializer = glorot_uniform(seed = 0))(X)\n",
        "    X = BatchNormalization(axis = 3, name = BN_name_base + \"2b\")(X) #BN for the channels only\n",
        "    X = Activation(\"relu\")(X)\n",
        "    \n",
        "    # Third component of main path\n",
        "        \n",
        "    X = Conv2D(filters = F3, kernel_size = (1, 1), strides = (1, 1), padding = \"valid\", name = conv_name_base + \"2c\", kernel_initializer = glorot_uniform(seed = 0))(X)\n",
        "    X = BatchNormalization(axis = 3, name = BN_name_base + \"2c\")(X) #BN for the channels only\n",
        "    #NO RELU NOW!!!\n",
        "    \n",
        "    #Shortcut path\n",
        "    \n",
        "    X_shortcut = Conv2D(filters = F3, kernel_size = (1, 1), strides = (s, s), padding = \"valid\", name = conv_name_base + \"1\", kernel_initializer = glorot_uniform(seed = 0))(X_shortcut)\n",
        "    X_shortcut = BatchNormalization(axis = 3, name = BN_name_base + \"1\")(X_shortcut)\n",
        "    \n",
        "    #Add the shortcut and RELU\n",
        "    \n",
        "    X = Add()([X, X_shortcut])\n",
        "    X = Activation(\"relu\")(X)\n",
        "    \n",
        "    return X\n",
        "    \n",
        "    \n",
        "\n"
      ],
      "execution_count": 0,
      "outputs": []
    },
    {
      "cell_type": "code",
      "metadata": {
        "id": "H3r3NeTD8EY4",
        "colab_type": "code",
        "colab": {
          "base_uri": "https://localhost:8080/",
          "height": 34
        },
        "outputId": "4a9e5e13-ebc3-419a-a7ac-e8b59b111d3d"
      },
      "source": [
        "#To test\n",
        "\n",
        "tf.reset_default_graph()\n",
        "\n",
        "with tf.Session() as test:\n",
        "    np.random.seed(1)\n",
        "    A_in = tf.placeholder(\"float\", [3, 4, 4, 6])\n",
        "    X = np.random.randn(3, 4, 4, 6)\n",
        "    A = CONV_Block(A_in, f = 2, filters = [2, 4, 6], stage = 1, block = \"a\")\n",
        "    test.run(tf.global_variables_initializer())\n",
        "    test_out = test.run([A], feed_dict = {A_in: X, keras.backend.learning_phase(): 0})\n",
        "    print(\"Out is: \", test_out[0][1][1][0])"
      ],
      "execution_count": 54,
      "outputs": [
        {
          "output_type": "stream",
          "text": [
            "Out is:  [0.09018461 1.2348977  0.46822017 0.0367176  0.         0.655166  ]\n"
          ],
          "name": "stdout"
        }
      ]
    },
    {
      "cell_type": "markdown",
      "metadata": {
        "id": "x0CkscOX9g4j",
        "colab_type": "text"
      },
      "source": [
        "Now I am going to build a monster Resnet to make it work. I couldn't do this without the residuals approach.\n",
        "\n",
        "The network is ResNet50, I have the paper in my local drive. Also the picture is in the Resnet folder created by this notebook."
      ]
    },
    {
      "cell_type": "markdown",
      "metadata": {
        "id": "DuPl_VOw_HSh",
        "colab_type": "text"
      },
      "source": [
        "#Description of the network:\n",
        "\n",
        "## Input\n",
        "\n",
        "*   zero padding (3, 3)\n",
        "\n",
        "\n",
        "## Stage 1:\n",
        "\n",
        "\n",
        "\n",
        "*   2D Conv with 64 filters 7x7. Stride 2, name \"Conv_1\".\n",
        "*   BatchNorm to the channels axis.\n",
        "*   Relu.\n",
        "*   MaxPool filter is 3x3 and stride is 2x2.\n",
        "\n",
        "## Stage 2:\n",
        "\n",
        "\n",
        "\n",
        "*   CONV BLOCK, (not conv2d layer) + 2x ID Block.\n",
        "*   CONV BLOCK with 3 sets of filters [64, 64, 256], f is 3 and s is 1, block \"a\"\n",
        "*   Both ID blocks are identical with 3 sets of filters [64, 64, 256], f is 3 and s is 1, blocks \"b\" and \"c\".\n",
        "\n",
        "## Stage 3:\n",
        "\n",
        "\n",
        "\n",
        "*   CONV BLOCK, (not conv2d layer) + 3x ID Block.\n",
        "*   CONV BLOCK with 3 sets of filters [128, 128, 512], f is 3 and s is 2, block \"a\"\n",
        "*   Both ID blocks are identical with 3 sets of filters [128, 128, 512], f is 3 and s is 1, blocks \"b, c, d\".\n",
        "\n",
        "## Stage 4:\n",
        "\n",
        "\n",
        "\n",
        "*   CONV BLOCK, (not conv2d layer) + 5x ID Block.\n",
        "*   CONV BLOCK with 3 sets of filters [256, 256, 1024], f is 3 and s is 2, block \"a\"\n",
        "*   Both ID blocks are identical with 3 sets of filters [256, 256, 1024], f is 3 and s is 1, blocks \"b, c, d, e, f\".\n",
        "\n",
        "## Stage 5:\n",
        "\n",
        "*   CONV BLOCK, (not conv2d layer) + 2x ID Block.\n",
        "*   CONV BLOCK with 3 sets of filters [512, 512, 2048], f is 3 and s is 2, block \"a\"\n",
        "*   Both ID blocks are identical with 3 sets of filters [256, 256, 2048], f is 3 and s is 1, blocks \"b\" and \"c\".\n",
        "\n",
        "## Output:\n",
        "\n",
        "*   Average pooling, 2x2, name is \"AvgPool\".\n",
        "*   Flatten. Just a flattening.\n",
        "*   FC layer. 6 outputs because I have 6 classes. Softmax.\n",
        "\n",
        "\n",
        "\n",
        "\n"
      ]
    },
    {
      "cell_type": "code",
      "metadata": {
        "id": "pyS1louED8hf",
        "colab_type": "code",
        "colab": {}
      },
      "source": [
        "def ResNet50(input_shape, classes):\n",
        "    \"\"\"\n",
        "    The input shape should be (64, 64, 3)\n",
        "    classes should be 6 in this case\n",
        "    \n",
        "    Output is the Model() instance.\n",
        "    \n",
        "    \"\"\"\n",
        "    \n",
        "    X_input = Input(input_shape)\n",
        "    \n",
        "    # Zero padding\n",
        "    \n",
        "    X = ZeroPadding2D((3, 3))(X_input)\n",
        "    \n",
        "    # Stage 1\n",
        "    \n",
        "    X = Conv2D()(X)"
      ],
      "execution_count": 0,
      "outputs": []
    }
  ]
}