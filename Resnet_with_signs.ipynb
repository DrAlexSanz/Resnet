{
  "nbformat": 4,
  "nbformat_minor": 0,
  "metadata": {
    "colab": {
      "name": "Resnet with signs",
      "version": "0.3.2",
      "provenance": [],
      "collapsed_sections": [],
      "include_colab_link": true
    },
    "kernelspec": {
      "name": "python3",
      "display_name": "Python 3"
    },
    "accelerator": "GPU"
  },
  "cells": [
    {
      "cell_type": "markdown",
      "metadata": {
        "id": "view-in-github",
        "colab_type": "text"
      },
      "source": [
        "<a href=\"https://colab.research.google.com/github/DrAlexSanz/Resnet/blob/master/Resnet_with_signs.ipynb\" target=\"_parent\"><img src=\"https://colab.research.google.com/assets/colab-badge.svg\" alt=\"Open In Colab\"/></a>"
      ]
    },
    {
      "cell_type": "markdown",
      "metadata": {
        "id": "UL0bSgQlkSBO",
        "colab_type": "text"
      },
      "source": [
        "This notebook solves the classification of the tests dataset with a resnet. The Resnet is a CNN (in this case) with shortcircuits. This tries to tackle the problem of vanishing gradients in VERY deep NN. I'll detail my topology later on."
      ]
    },
    {
      "cell_type": "code",
      "metadata": {
        "id": "bz1YZDjgXbCu",
        "colab_type": "code",
        "outputId": "ac8dc3c1-97e8-4c19-c506-d5e14c5c4702",
        "colab": {
          "base_uri": "https://localhost:8080/",
          "height": 51
        }
      },
      "source": [
        "import numpy as np\n",
        "import keras\n",
        "import tensorflow as tf\n",
        "\n",
        "import matplotlib.pyplot as plt\n",
        "plt.rcParams[\"figure.figsize\"] = [18, 12]\n",
        "import h5py\n",
        "\n",
        "from PIL import Image\n",
        "\n",
        "from keras import layers, optimizers\n",
        "from keras.layers import Input, Dense, Conv2D, Activation, ZeroPadding2D, BatchNormalization, Flatten, Add\n",
        "from keras.layers import AveragePooling2D, MaxPooling2D, Dropout, GlobalMaxPooling2D, GlobalAveragePooling2D\n",
        "\n",
        "from keras.models import Model, Sequential\n",
        "\n",
        "from keras.preprocessing import image\n",
        "\n",
        "from keras.initializers import glorot_uniform\n",
        "\n",
        "from keras.utils import layer_utils, plot_model, to_categorical\n",
        "\n",
        "from keras.callbacks import History, ModelCheckpoint\n",
        "\n",
        "keras.backend.set_image_data_format('channels_last')\n",
        "\n",
        "%matplotlib inline\n",
        "\n",
        "print(\"Everything imported correctly\")"
      ],
      "execution_count": 1,
      "outputs": [
        {
          "output_type": "stream",
          "text": [
            "Using TensorFlow backend.\n"
          ],
          "name": "stderr"
        },
        {
          "output_type": "stream",
          "text": [
            "Everything imported correctly\n"
          ],
          "name": "stdout"
        }
      ]
    },
    {
      "cell_type": "code",
      "metadata": {
        "id": "ui4Q9MNSY3Dl",
        "colab_type": "code",
        "outputId": "5ae5bde6-4496-425a-b8a7-c0bade98724f",
        "colab": {
          "base_uri": "https://localhost:8080/",
          "height": 119
        }
      },
      "source": [
        "#First remove the folder and everything it contains.\n",
        "\n",
        "!rm -rf Resnet\n",
        "\n",
        "#Now I clone the repository and everything works.\n",
        "\n",
        "! git clone https://github.com/DrAlexSanz/Resnet.git"
      ],
      "execution_count": 2,
      "outputs": [
        {
          "output_type": "stream",
          "text": [
            "Cloning into 'Resnet'...\n",
            "remote: Enumerating objects: 19, done.\u001b[K\n",
            "remote: Counting objects: 100% (19/19), done.\u001b[K\n",
            "remote: Compressing objects: 100% (19/19), done.\u001b[K\n",
            "remote: Total 19 (delta 6), reused 0 (delta 0), pack-reused 0\u001b[K\n",
            "Unpacking objects: 100% (19/19), done.\n"
          ],
          "name": "stdout"
        }
      ]
    },
    {
      "cell_type": "code",
      "metadata": {
        "id": "uaN7OlV-ZFzE",
        "colab_type": "code",
        "outputId": "9d46b3f3-9b19-46a7-cc2b-e32bc98fe01b",
        "colab": {
          "base_uri": "https://localhost:8080/",
          "height": 34
        }
      },
      "source": [
        "#Now read data\n",
        "\n",
        "with h5py.File(\"Resnet/test_signs.h5\") as test:\n",
        "  test_x_1 = np.array(test[\"test_set_x\"][:]) # your train set features\n",
        "  test_y_1 = np.array(test[\"test_set_y\"][:]) # your train set labels\n",
        "  classes = np.array(test[\"list_classes\"][:]) # the list of classes\n",
        "\n",
        "with h5py.File(\"Resnet/train_signs.h5\") as train:\n",
        "  train_x_1 = np.array(train[\"train_set_x\"][:]) # train set features\n",
        "  train_y_1 = np.array(train[\"train_set_y\"][:]) # train set labels\n",
        "\n",
        "print(\"Everything loaded and imported\")"
      ],
      "execution_count": 3,
      "outputs": [
        {
          "output_type": "stream",
          "text": [
            "Everything loaded and imported\n"
          ],
          "name": "stdout"
        }
      ]
    },
    {
      "cell_type": "code",
      "metadata": {
        "id": "9mWRHksLcEH4",
        "colab_type": "code",
        "colab": {}
      },
      "source": [
        "train_x = train_x_1/255\n",
        "test_x = test_x_1/255\n",
        "\n",
        "#One hot encoding by hand. I find it's a neat solution\n",
        "\n",
        "n_classes = 5 # Numbers 0 to 5, I need to put 1 less\n",
        "\n",
        "# If I use a library, like sklearn or TF, I will fit it with the train set, and then transform BOTH, to ensure that every class is mapped consistently\n",
        "\n",
        "#Explanation: create a nxn Identity matrix. Take the nth row. I had to write this down, it's not easy to see off the top of my head.\n",
        "\n",
        "# train_y = np.eye(n_classes+1)[train_y_1.reshape(-1)]\n",
        "# test_y = np.eye(n_classes+1)[test_y_1.reshape(-1)]\n",
        "\n",
        "train_y = to_categorical(train_y_1)\n",
        "test_y = to_categorical(test_y_1)"
      ],
      "execution_count": 0,
      "outputs": []
    },
    {
      "cell_type": "code",
      "metadata": {
        "id": "73sAkB_Tcw2y",
        "colab_type": "code",
        "outputId": "e293ffb1-58ca-4c23-c963-d09682402c34",
        "colab": {
          "base_uri": "https://localhost:8080/",
          "height": 85
        }
      },
      "source": [
        "print(\"X train shape is: \" + str(train_x.shape))\n",
        "print(\"Y train shape is: \" + str(train_y.shape))\n",
        "print(\"X test shape is: \" + str(test_x.shape))\n",
        "print(\"Y test shape is: \" + str(test_y.shape))"
      ],
      "execution_count": 5,
      "outputs": [
        {
          "output_type": "stream",
          "text": [
            "X train shape is: (1080, 64, 64, 3)\n",
            "Y train shape is: (1080, 6)\n",
            "X test shape is: (120, 64, 64, 3)\n",
            "Y test shape is: (120, 6)\n"
          ],
          "name": "stdout"
        }
      ]
    },
    {
      "cell_type": "code",
      "metadata": {
        "id": "B0xJEoH2Znh1",
        "colab_type": "code",
        "outputId": "8547e310-6bd2-4735-d4cc-62341c2326ff",
        "colab": {
          "base_uri": "https://localhost:8080/",
          "height": 286
        }
      },
      "source": [
        "plt.imshow(train_x_1[13])\n",
        "print(\"y = \" + str(train_y_1[13]))"
      ],
      "execution_count": 6,
      "outputs": [
        {
          "output_type": "stream",
          "text": [
            "y = 5\n"
          ],
          "name": "stdout"
        },
        {
          "output_type": "display_data",
          "data": {
            "image/png": "[encoded data removed]",
            "text/plain": [
              "<Figure size 432x288 with 1 Axes>"
            ]
          },
          "metadata": {
            "tags": []
          }
        }
      ]
    },
    {
      "cell_type": "markdown",
      "metadata": {
        "id": "rSOiSjoPioNH",
        "colab_type": "text"
      },
      "source": [
        "So this is the loading as in the case of the signs CNN in TF. Nothing new here. The novelty is the topology of the network. I'll explain with a picture.\n",
        "\n",
        "![ID Block](\"Resnet/idblock3_kiank.png\")\n"
      ]
    },
    {
      "cell_type": "markdown",
      "metadata": {
        "id": "PI3HFEuFqVnA",
        "colab_type": "text"
      },
      "source": [
        "Ok, the visualization doesn't work so I'll plot the model later on.\n",
        "\n",
        "There is the main path, which is the normal (C)NN and the shortcircuit. The main path is made of a basic block (ID block) which is shortcircuited. At the end of the ID block, the shortcircuit is added to the output of this ID block, but only if the dimensions are the same. This is repeated a number of times. If I want to add the shortcircuit and the dimensions have changed along the main path I need to apply a CONV2D with the appropriate parameters in the shortcircuit path. I will do this in this case, but it is only one of the options.\n",
        "\n",
        "The structure, in this case, is the following:\n",
        "\n",
        "MAIN PATH\n",
        "\n",
        "First component \n",
        "\n",
        "1.   CONV2D with $F_1$ filters of shape (1, 1), stride of (1, 1) and padding VALID (dims will change). The name is CONV_NAME_BASE + \"2a\"\n",
        "2.   BatchNorm block, to normalize the channels axis. The name is BN_NAME_BASE + \"2a\"\n",
        "3.   RELU. No name\n",
        "\n",
        "Second component\n",
        "\n",
        "\n",
        "\n",
        "1.   CONV2D with $F_2$ filters of shape ($f$, $f$), stride of (1, 1) and padding SAME. The name is CONV_NAME_BASE + \"2b\"\n",
        "2.   BatchNorm block, to normalize the channels axis. The name is BN_NAME_BASE + \"2b\"\n",
        "3.   RELU. No name\n",
        "\n",
        "Third component\n",
        "\n",
        "\n",
        "\n",
        "1.   CONV2D with $F_3$ filters of shape (1, 1), stride of (1, 1) and padding VALID. The name is CONV_NAME_BASE + \"2c\"\n",
        "2.   BatchNorm block, to normalize the channels axis. The name is BN_NAME_BASE + \"2c\"\n",
        "3.   NO ACTIVATION\n",
        "\n",
        "Last step, add the output of the third component to the output of the shortcircuit block and then pass it through a RELU. If I add it later, the shortcircuit is not capturing any nonlinearity!!!\n",
        "\n",
        "The shortcircuit path has a CONV2D + BatchNorm. IF I don't change the dimensions this is not necessary.\n",
        "\n",
        "\n"
      ]
    },
    {
      "cell_type": "code",
      "metadata": {
        "id": "FAkc8HZEvQSC",
        "colab_type": "code",
        "colab": {}
      },
      "source": [
        "def ID_Block(X, f, filters, stage, block):\n",
        "    \"\"\"\n",
        "    Implementation of the ID block described in the previous cell\n",
        "\n",
        "    Inputs:\n",
        "    X is the batch of pictures (m, height, width, channels)\n",
        "    f is the shape of the filters for the second block of main path\n",
        "    filters is the list with the 3 numbers of filters for each block [f1, f2, f3]\n",
        "    stage is the position of the block, for naming\n",
        "    block is a string to name the layers\n",
        "\n",
        "    Output:\n",
        "    X is the ID block created. Shape is (height, width, channels)\n",
        "\n",
        "    \"\"\"\n",
        "\n",
        "\n",
        "    #Define names\n",
        "    conv_name_base = \"Res\" + str(stage) + block + \"_branch\"\n",
        "    BN_name_base = \"BN\" + str(stage) + block + \"_branch\"\n",
        "    \n",
        "    # Separate filters\n",
        "    \n",
        "    F1, F2, F3 = filters\n",
        "    \n",
        "    #Save the input for the shortcut\n",
        "    \n",
        "    X_shortcut = X\n",
        "    \n",
        "    # Al lío\n",
        "    # First component of main path\n",
        "    \n",
        "    X = Conv2D(filters = F1, kernel_size = (1, 1), strides = (1, 1), padding = \"valid\", name = conv_name_base + \"2a\", kernel_initializer = glorot_uniform(seed = 0))(X)\n",
        "    X = BatchNormalization(axis = 3, name = BN_name_base + \"2a\")(X) #BN for the channels only\n",
        "    X = Activation(\"relu\")(X)\n",
        "    \n",
        "    #Second component of main path\n",
        "        \n",
        "    X = Conv2D(filters = F2, kernel_size = (f, f), strides = (1, 1), padding = \"same\", name = conv_name_base + \"2b\", kernel_initializer = glorot_uniform(seed = 0))(X)\n",
        "    X = BatchNormalization(axis = 3, name = BN_name_base + \"2b\")(X) #BN for the channels only\n",
        "    X = Activation(\"relu\")(X)\n",
        "    \n",
        "    # Third component of main path\n",
        "        \n",
        "    X = Conv2D(filters = F3, kernel_size = (1, 1), strides = (1, 1), padding = \"valid\", name = conv_name_base + \"2c\", kernel_initializer = glorot_uniform(seed = 0))(X)\n",
        "    X = BatchNormalization(axis = 3, name = BN_name_base + \"2c\")(X) #BN for the channels only\n",
        "    #NO RELU NOW!!!\n",
        "    \n",
        "    #Add the shortcut and RELU\n",
        "    \n",
        "    X = Add()([X, X_shortcut])\n",
        "    X = Activation(\"relu\")(X)\n",
        "    \n",
        "    return X\n",
        "    \n",
        "    \n",
        "\n"
      ],
      "execution_count": 0,
      "outputs": []
    },
    {
      "cell_type": "markdown",
      "metadata": {
        "id": "kciYzLeG3NwQ",
        "colab_type": "text"
      },
      "source": [
        "So the previous block works. That is reassuring. Also:\n",
        "\n",
        "#The error AttributeError __Enter__ comes when I forget the () in with tf.Session() as...\n",
        "\n",
        "Always the same story."
      ]
    },
    {
      "cell_type": "markdown",
      "metadata": {
        "id": "RARKxZvR35cy",
        "colab_type": "text"
      },
      "source": [
        "Now I have to implement the Convolutional block. It's the same block as before but before adding the shortcut I pass it through a CONV2D block and BN"
      ]
    },
    {
      "cell_type": "code",
      "metadata": {
        "colab_type": "code",
        "id": "_r9Tf8gf6k1S",
        "colab": {}
      },
      "source": [
        "def CONV_Block(X, f, filters, stage, block, s = 2):\n",
        "    \"\"\"\n",
        "    Implementation of the CONV block described in the previous cell\n",
        "\n",
        "    Inputs:\n",
        "    X is the batch of pictures (m, height, width, channels)\n",
        "    f is the shape of the filters for the second block of main path\n",
        "    filters is the list with the 3 numbers of filters for each block [f1, f2, f3]\n",
        "    stage is the position of the block, for naming\n",
        "    block is a string to name the layers\n",
        "    s is the stride\n",
        "\n",
        "    Output:\n",
        "    X is the ID block created. Shape is (height, width, channels)\n",
        "\n",
        "    \"\"\"\n",
        "\n",
        "\n",
        "    #Define names\n",
        "    conv_name_base = \"Res\" + str(stage) + block + \"_branch\"\n",
        "    BN_name_base = \"BN\" + str(stage) + block + \"_branch\"\n",
        "    \n",
        "    # Separate filters\n",
        "    \n",
        "    F1, F2, F3 = filters\n",
        "    \n",
        "    #Save the input for the shortcut\n",
        "    \n",
        "    X_shortcut = X\n",
        "    \n",
        "    # Al lío\n",
        "    # First component of main path\n",
        "    \n",
        "    X = Conv2D(filters = F1, kernel_size = (1, 1), strides = (s, s), padding = \"valid\", name = conv_name_base + \"2a\", kernel_initializer = glorot_uniform(seed = 0))(X)\n",
        "    X = BatchNormalization(axis = 3, name = BN_name_base + \"2a\")(X) #BN for the channels only\n",
        "    X = Activation(\"relu\")(X)\n",
        "    \n",
        "    #Second component of main path\n",
        "        \n",
        "    X = Conv2D(filters = F2, kernel_size = (f, f), strides = (1, 1), padding = \"same\", name = conv_name_base + \"2b\", kernel_initializer = glorot_uniform(seed = 0))(X)\n",
        "    X = BatchNormalization(axis = 3, name = BN_name_base + \"2b\")(X) #BN for the channels only\n",
        "    X = Activation(\"relu\")(X)\n",
        "    \n",
        "    # Third component of main path\n",
        "        \n",
        "    X = Conv2D(filters = F3, kernel_size = (1, 1), strides = (1, 1), padding = \"valid\", name = conv_name_base + \"2c\", kernel_initializer = glorot_uniform(seed = 0))(X)\n",
        "    X = BatchNormalization(axis = 3, name = BN_name_base + \"2c\")(X) #BN for the channels only\n",
        "    #NO RELU NOW!!!\n",
        "    \n",
        "    #Shortcut path\n",
        "    \n",
        "    X_shortcut = Conv2D(filters = F3, kernel_size = (1, 1), strides = (s, s), padding = \"valid\", name = conv_name_base + \"1\", kernel_initializer = glorot_uniform(seed = 0))(X_shortcut)\n",
        "    X_shortcut = BatchNormalization(axis = 3, name = BN_name_base + \"1\")(X_shortcut)\n",
        "    \n",
        "    #Add the shortcut and RELU\n",
        "    \n",
        "    X = Add()([X, X_shortcut])\n",
        "    X = Activation(\"relu\")(X)\n",
        "    \n",
        "    return X\n",
        "    \n",
        "    \n",
        "\n"
      ],
      "execution_count": 0,
      "outputs": []
    },
    {
      "cell_type": "markdown",
      "metadata": {
        "id": "x0CkscOX9g4j",
        "colab_type": "text"
      },
      "source": [
        "Now I am going to build a monster Resnet to make it work. I couldn't do this without the residuals approach.\n",
        "\n",
        "The network is ResNet50, I have the paper in my local drive. Also the picture is in the Resnet folder created by this notebook."
      ]
    },
    {
      "cell_type": "markdown",
      "metadata": {
        "id": "DuPl_VOw_HSh",
        "colab_type": "text"
      },
      "source": [
        "#Description of the network:\n",
        "\n",
        "## Input\n",
        "\n",
        "*   zero padding (3, 3)\n",
        "\n",
        "\n",
        "## Stage 1:\n",
        "\n",
        "\n",
        "\n",
        "*   2D Conv with 64 filters 7x7. Stride 2, name \"Conv_1\".\n",
        "*   BatchNorm to the channels axis.\n",
        "*   Relu.\n",
        "*   MaxPool filter is 3x3 and stride is 2x2.\n",
        "\n",
        "## Stage 2:\n",
        "\n",
        "\n",
        "\n",
        "*   CONV BLOCK, (not conv2d layer) + 2x ID Block.\n",
        "*   CONV BLOCK with 3 sets of filters [64, 64, 256], f is 3 and s is 1, block \"a\"\n",
        "*   Both ID blocks are identical with 3 sets of filters [64, 64, 256], f is 3 and s is 1, blocks \"b\" and \"c\".\n",
        "\n",
        "## Stage 3:\n",
        "\n",
        "\n",
        "\n",
        "*   CONV BLOCK, (not conv2d layer) + 3x ID Block.\n",
        "*   CONV BLOCK with 3 sets of filters [128, 128, 512], f is 3 and s is 2, block \"a\"\n",
        "*   Both ID blocks are identical with 3 sets of filters [128, 128, 512], f is 3 and s is 1, blocks \"b, c, d\".\n",
        "\n",
        "## Stage 4:\n",
        "\n",
        "\n",
        "\n",
        "*   CONV BLOCK, (not conv2d layer) + 5x ID Block.\n",
        "*   CONV BLOCK with 3 sets of filters [256, 256, 1024], f is 3 and s is 2, block \"a\"\n",
        "*   Both ID blocks are identical with 3 sets of filters [256, 256, 1024], f is 3 and s is 1, blocks \"b, c, d, e, f\".\n",
        "\n",
        "## Stage 5:\n",
        "\n",
        "*   CONV BLOCK, (not conv2d layer) + 2x ID Block.\n",
        "*   CONV BLOCK with 3 sets of filters [512, 512, 2048], f is 3 and s is 2, block \"a\"\n",
        "*   Both ID blocks are identical with 3 sets of filters [256, 256, 2048], f is 3 and s is 1, blocks \"b\" and \"c\".\n",
        "\n",
        "## Output:\n",
        "\n",
        "*   Average pooling, 2x2, name is \"AvgPool\".\n",
        "*   Flatten. Just a flattening.\n",
        "*   FC layer. 6 outputs because I have 6 classes. Softmax.\n",
        "\n",
        "\n",
        "\n",
        "\n"
      ]
    },
    {
      "cell_type": "code",
      "metadata": {
        "id": "pyS1louED8hf",
        "colab_type": "code",
        "colab": {}
      },
      "source": [
        "def ResNet50(input_shape, classes):\n",
        "    \"\"\"\n",
        "    The input shape should be (64, 64, 3)\n",
        "    classes should be 6 in this case\n",
        "    \n",
        "    Output is the Model() instance.\n",
        "    \n",
        "    \"\"\"\n",
        "    \n",
        "    X_input = Input(input_shape)\n",
        "    \n",
        "    # Zero padding\n",
        "    \n",
        "    X = ZeroPadding2D((3, 3))(X_input)\n",
        "    \n",
        "    # Stage 1\n",
        "    \n",
        "    X = Conv2D(64, kernel_size = (7, 7), strides = (2, 2), name = \"Conv_1\", kernel_initializer = glorot_uniform(seed = 0))(X)\n",
        "    X = BatchNormalization(axis = 3, name = \"BN_1\")(X)\n",
        "    \n",
        "    # Stage 2\n",
        "    \n",
        "    X = CONV_Block(X, f = 3, filters = [64, 64, 256], stage = 2, block = \"a\", s =1)\n",
        "    X = ID_Block(X, f = 3, filters = [64, 64, 256], stage = 2, block = \"b\")\n",
        "    X = ID_Block(X, f = 3, filters = [64, 64, 256], stage = 2, block = \"c\")\n",
        "    \n",
        "    # Stage 3\n",
        "    \n",
        "    X = CONV_Block(X, f = 3, filters = [128, 128, 512], stage = 3, block = \"a\", s =2)\n",
        "    X = ID_Block(X, f = 3, filters = [128, 128, 512], stage = 3, block = \"b\")\n",
        "    X = ID_Block(X, f = 3, filters = [128, 128, 512], stage = 3, block = \"c\")\n",
        "    X = ID_Block(X, f = 3, filters = [128, 128, 512], stage = 3, block = \"d\")\n",
        "    \n",
        "    # Stage 4\n",
        "    \n",
        "    X = CONV_Block(X, f = 3, filters = [256, 256, 1024], stage = 4, block = \"a\", s =2)\n",
        "    X = ID_Block(X, f = 3, filters = [256, 256, 1024], stage = 4, block = \"b\")\n",
        "    X = ID_Block(X, f = 3, filters = [256, 256, 1024], stage = 4, block = \"c\")\n",
        "    X = ID_Block(X, f = 3, filters = [256, 256, 1024], stage = 4, block = \"d\")\n",
        "    X = ID_Block(X, f = 3, filters = [256, 256, 1024], stage = 4, block = \"e\")\n",
        "    X = ID_Block(X, f = 3, filters = [256, 256, 1024], stage = 4, block = \"f\")\n",
        "    \n",
        "    # Stage 5\n",
        "    \n",
        "    X = CONV_Block(X, f = 3, filters = [512, 512, 2048], stage = 5, block = \"a\", s =2)\n",
        "    X = ID_Block(X, f = 3, filters = [512, 512, 2048], stage = 5, block = \"b\")\n",
        "    X = ID_Block(X, f = 3, filters = [512, 512, 2048], stage = 5, block = \"c\")\n",
        "    \n",
        "    # Output\n",
        "    \n",
        "    X = AveragePooling2D(pool_size = (2, 2), padding = \"same\")(X)\n",
        "    X = Flatten()(X)\n",
        "    X = Dense(classes, activation = \"softmax\", name = \"FC\" + str(classes), kernel_initializer = glorot_uniform(seed = 0))(X)\n",
        "    \n",
        "    #Finally, create the model\n",
        "    \n",
        "    model = Model(inputs = X_input, outputs = X, name = \"ResNet50\")\n",
        "    \n",
        "    return model \n",
        "    \n",
        "    \n",
        "    \n",
        "    "
      ],
      "execution_count": 0,
      "outputs": []
    },
    {
      "cell_type": "markdown",
      "metadata": {
        "id": "8p0ju4d1Iwv1",
        "colab_type": "text"
      },
      "source": [
        "This is a huge model, so let's plot the graph and see if it's correct."
      ]
    },
    {
      "cell_type": "code",
      "metadata": {
        "id": "A0DoMPo6JKwB",
        "colab_type": "code",
        "colab": {
          "base_uri": "https://localhost:8080/",
          "height": 292
        },
        "outputId": "ded32a14-aabc-43d3-b5f9-9cc9ac94ef0a"
      },
      "source": [
        "Res50 = ResNet50(input_shape = (64, 64, 3), classes = 6)"
      ],
      "execution_count": 10,
      "outputs": [
        {
          "output_type": "stream",
          "text": [
            "WARNING: Logging before flag parsing goes to stderr.\n",
            "W0822 16:54:23.135632 140689954887552 deprecation_wrapper.py:119] From /usr/local/lib/python3.6/dist-packages/keras/backend/tensorflow_backend.py:74: The name tf.get_default_graph is deprecated. Please use tf.compat.v1.get_default_graph instead.\n",
            "\n",
            "W0822 16:54:23.153838 140689954887552 deprecation_wrapper.py:119] From /usr/local/lib/python3.6/dist-packages/keras/backend/tensorflow_backend.py:517: The name tf.placeholder is deprecated. Please use tf.compat.v1.placeholder instead.\n",
            "\n",
            "W0822 16:54:23.160918 140689954887552 deprecation_wrapper.py:119] From /usr/local/lib/python3.6/dist-packages/keras/backend/tensorflow_backend.py:4138: The name tf.random_uniform is deprecated. Please use tf.random.uniform instead.\n",
            "\n",
            "W0822 16:54:23.186769 140689954887552 deprecation_wrapper.py:119] From /usr/local/lib/python3.6/dist-packages/keras/backend/tensorflow_backend.py:174: The name tf.get_default_session is deprecated. Please use tf.compat.v1.get_default_session instead.\n",
            "\n",
            "W0822 16:54:23.187524 140689954887552 deprecation_wrapper.py:119] From /usr/local/lib/python3.6/dist-packages/keras/backend/tensorflow_backend.py:181: The name tf.ConfigProto is deprecated. Please use tf.compat.v1.ConfigProto instead.\n",
            "\n",
            "W0822 16:54:23.921869 140689954887552 deprecation_wrapper.py:119] From /usr/local/lib/python3.6/dist-packages/keras/backend/tensorflow_backend.py:1834: The name tf.nn.fused_batch_norm is deprecated. Please use tf.compat.v1.nn.fused_batch_norm instead.\n",
            "\n",
            "W0822 16:54:28.498912 140689954887552 deprecation_wrapper.py:119] From /usr/local/lib/python3.6/dist-packages/keras/backend/tensorflow_backend.py:3980: The name tf.nn.avg_pool is deprecated. Please use tf.nn.avg_pool2d instead.\n",
            "\n"
          ],
          "name": "stderr"
        }
      ]
    },
    {
      "cell_type": "code",
      "metadata": {
        "id": "oBDqMl6TI62m",
        "colab_type": "code",
        "colab": {}
      },
      "source": [
        "# If the previous cell didn't fail, this one should work\n",
        "\n",
        "plot_model(Res50, show_shapes = True, to_file = \"Resnet/model.png\")\n",
        "\n",
        "#model_plot = Image.open(\"Resnet/model.png\")\n",
        "\n",
        "#plt.imshow(model_plot)\n",
        "\n",
        "#Res50.summary()"
      ],
      "execution_count": 0,
      "outputs": []
    },
    {
      "cell_type": "markdown",
      "metadata": {
        "id": "qRueYPmlKjjt",
        "colab_type": "text"
      },
      "source": [
        "So this model is 23.5 M parameters. This is going to take a while. I'll run a few epochs only initially."
      ]
    },
    {
      "cell_type": "code",
      "metadata": {
        "id": "IGCYepvaKrqq",
        "colab_type": "code",
        "colab": {
          "base_uri": "https://localhost:8080/",
          "height": 71
        },
        "outputId": "722352e2-692c-4c0e-88a1-f0a1783113fc"
      },
      "source": [
        "opti = optimizers.Adam(lr = 1e-3)\n",
        "\n",
        "checkpointer = ModelCheckpoint(filepath = \"Resnet/best_weights.h5\", monitor = \"val_acc\", save_best_only = True)\n",
        "\n",
        "Res50.compile(loss = \"categorical_crossentropy\", optimizer = opti, metrics = [\"accuracy\"])\n",
        "hist = History()"
      ],
      "execution_count": 12,
      "outputs": [
        {
          "output_type": "stream",
          "text": [
            "W0822 16:54:29.946157 140689954887552 deprecation_wrapper.py:119] From /usr/local/lib/python3.6/dist-packages/keras/optimizers.py:790: The name tf.train.Optimizer is deprecated. Please use tf.compat.v1.train.Optimizer instead.\n",
            "\n"
          ],
          "name": "stderr"
        }
      ]
    },
    {
      "cell_type": "code",
      "metadata": {
        "id": "ifmr1IcVK46S",
        "colab_type": "code",
        "colab": {
          "base_uri": "https://localhost:8080/",
          "height": 224
        },
        "outputId": "0bc7013c-4fba-4174-b78b-351ed2dad8dc"
      },
      "source": [
        "num_epochs = 5\n",
        "\n",
        "Res50.fit(train_x, train_y, epochs = num_epochs, batch_size = 32, validation_data = (test_x, test_y), shuffle = True, callbacks = [hist, checkpointer])\n",
        "\n",
        "Res50.load_weights(\"Resnet/best_weights.h5\")"
      ],
      "execution_count": 17,
      "outputs": [
        {
          "output_type": "stream",
          "text": [
            "Train on 1080 samples, validate on 120 samples\n",
            "Epoch 1/5\n",
            "1080/1080 [==============================] - 6s 5ms/step - loss: 5.5750 - acc: 0.4231 - val_loss: 12.2734 - val_acc: 0.1667\n",
            "Epoch 2/5\n",
            "1080/1080 [==============================] - 6s 5ms/step - loss: 2.0868 - acc: 0.6009 - val_loss: 13.4317 - val_acc: 0.1667\n",
            "Epoch 3/5\n",
            "1080/1080 [==============================] - 6s 5ms/step - loss: 0.9111 - acc: 0.6833 - val_loss: 13.4317 - val_acc: 0.1667\n",
            "Epoch 4/5\n",
            "1080/1080 [==============================] - 6s 5ms/step - loss: 0.5856 - acc: 0.7889 - val_loss: 8.4695 - val_acc: 0.3500\n",
            "Epoch 5/5\n",
            "1080/1080 [==============================] - 6s 5ms/step - loss: 0.4508 - acc: 0.8667 - val_loss: 12.1536 - val_acc: 0.1833\n"
          ],
          "name": "stdout"
        }
      ]
    },
    {
      "cell_type": "code",
      "metadata": {
        "id": "eJqHxXP3NOWx",
        "colab_type": "code",
        "colab": {
          "base_uri": "https://localhost:8080/",
          "height": 68
        },
        "outputId": "ee28d0e7-c621-489d-a32e-d5c42934c84c"
      },
      "source": [
        "pred = Res50.evaluate(test_x, test_y)\n",
        "print(\"Test loss is: \" + str(pred[0]))\n",
        "print(\"Test accuracy is: \" + str(pred[1]))"
      ],
      "execution_count": 18,
      "outputs": [
        {
          "output_type": "stream",
          "text": [
            "120/120 [==============================] - 0s 2ms/step\n",
            "Test loss is: 8.469451586405436\n",
            "Test accuracy is: 0.35\n"
          ],
          "name": "stdout"
        }
      ]
    },
    {
      "cell_type": "code",
      "metadata": {
        "id": "qzkIvbBsNeDE",
        "colab_type": "code",
        "colab": {
          "base_uri": "https://localhost:8080/",
          "height": 303
        },
        "outputId": "a11b0b68-7c56-4087-c4e5-238c48ef173d"
      },
      "source": [
        "print(hist.history.keys())\n",
        "\n",
        "plt.figure();\n",
        "\n",
        "plt.plot(range(num_epochs), list(hist.history.values())[0], label = \"Test loss\");\n",
        "plt.plot(range(num_epochs), list(hist.history.values())[2], label = \"Train loss\");\n",
        "plt.legend(loc = \"best\")"
      ],
      "execution_count": 19,
      "outputs": [
        {
          "output_type": "stream",
          "text": [
            "dict_keys(['val_loss', 'val_acc', 'loss', 'acc'])\n"
          ],
          "name": "stdout"
        },
        {
          "output_type": "execute_result",
          "data": {
            "text/plain": [
              "<matplotlib.legend.Legend at 0x7ff436a33cf8>"
            ]
          },
          "metadata": {
            "tags": []
          },
          "execution_count": 19
        },
        {
          "output_type": "display_data",
          "data": {
            "image/png": "[encoded data removed]",
            "text/plain": [
              "<Figure size 432x288 with 1 Axes>"
            ]
          },
          "metadata": {
            "tags": []
          }
        }
      ]
    },
    {
      "cell_type": "code",
      "metadata": {
        "id": "0cH5StolNjQx",
        "colab_type": "code",
        "colab": {
          "base_uri": "https://localhost:8080/",
          "height": 286
        },
        "outputId": "1ce83adc-706f-4311-c68e-3ae46b3ad9a0"
      },
      "source": [
        "plt.figure();\n",
        "\n",
        "plt.plot(range(num_epochs), list(hist.history.values())[1], label = \"Test acc\");\n",
        "plt.plot(range(num_epochs), list(hist.history.values())[3], label = \"Train acc\");\n",
        "plt.legend(loc = \"best\")"
      ],
      "execution_count": 20,
      "outputs": [
        {
          "output_type": "execute_result",
          "data": {
            "text/plain": [
              "<matplotlib.legend.Legend at 0x7ff4369929b0>"
            ]
          },
          "metadata": {
            "tags": []
          },
          "execution_count": 20
        },
        {
          "output_type": "display_data",
          "data": {
            "image/png": "[encoded data removed]",
            "text/plain": [
              "<Figure size 432x288 with 1 Axes>"
            ]
          },
          "metadata": {
            "tags": []
          }
        }
      ]
    }
  ]
}